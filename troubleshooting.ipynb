{
 "cells": [
  {
   "cell_type": "markdown",
   "metadata": {
    "collapsed": true
   },
   "source": [
    "# Troubleshooting\n",
    "\n",
    "This page lists frequently asked questions and frequently encountered problems, and possible solutions to them."
   ]
  },
  {
   "cell_type": "markdown",
   "metadata": {},
   "source": [
    "### I can't log in\n",
    "\n",
    "First, ensure that you have an account on the Palmetto cluster. You can request an account [here](https://citi.sites.clemson.edu/new-account/). If you are repeatedly re-directed to the login page after entering your password correctly, you may need to delete your browser's cookies and try again."
   ]
  },
  {
   "cell_type": "markdown",
   "metadata": {},
   "source": [
    "### I can log in, but when I click on \"Spawn\", nothing happens\n",
    "\n",
    "This can happen for various reasons:\n",
    "\n",
    "1.  If the cluster is especially busy: if the resources you request are available, then your notebook server is started immediately. Otherwise, the request for starting the notebook server is \"queued\". Jupyterhub does not queue requests for a very long time, and your request may have \"timed out\". You may be successful if you try again after a while.\n",
    "\n",
    "1.  Due to invalid/excessive resource requests: for example, asking for a single CPU core and 64 GB of memory is an invalid request, as single core jobs are currently limited to 15 GB. It may be useful to consult the [Palmetto user's guide](http://www.palmetto.clemson.edu/pages/userguide.html) when requesting resources.\n",
    "\n",
    "1.  If you have set up a custom Python environment, or load conflicting modules in your `.bashrc` or `.bash_profile`. Try commenting out these sections of your `.bashrc` or `.bash_profile`.\n",
    "\n",
    "1.  If you see a browser error, try waiting a while, then refreshing the page.\n",
    "\n",
    "1.  If you still can't log in, please e-mail <ithelp@clemson.edu> and let us know."
   ]
  }
 ],
 "metadata": {
  "kernelspec": {
   "display_name": "Python 3",
   "language": "python",
   "name": "python3"
  },
  "language_info": {
   "codemirror_mode": {
    "name": "ipython",
    "version": 3
   },
   "file_extension": ".py",
   "mimetype": "text/x-python",
   "name": "python",
   "nbconvert_exporter": "python",
   "pygments_lexer": "ipython3",
   "version": "3.5.1"
  }
 },
 "nbformat": 4,
 "nbformat_minor": 0
}
