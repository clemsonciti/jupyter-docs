{
 "cells": [
  {
   "cell_type": "markdown",
   "metadata": {},
   "source": [
    "# Documentation"
   ]
  },
  {
   "cell_type": "markdown",
   "metadata": {},
   "source": [
    "1. [Starting a Notebook Server on the Palmetto Cluster][starting-server]\n",
    "1. [The Jupyter Interface][interface]\n",
    "1. [Quick Start][quickstart]\n",
    "1. [Notebook Basics][basics]\n",
    "1. [Working With Markdown Cells][markdown]\n",
    "1. [Typesetting Equations][equations]\n",
    "1. [Configuring and Customizing Jupyter][customization]\n",
    "1. [Sharing and Publishing Notebooks][sharing]\n",
    "\n",
    "[intro]: Jupyter_for_Palmetto_Overview.html\n",
    "[interface]: Jupyter_Interface.html\n",
    "[starting-server]: Notebook_Server_on_Palmetto.html\n",
    "[quickstart]: Quick_Start.html\n",
    "[basics]: Notebook_Basics.html\n",
    "[markdown]: Working_With_Markdown_Cells.html\n",
    "[equations]: Typesetting_Equations.html\n",
    "[customization]: Configuring.html\n",
    "[sharing]: Sharing_Notebooks.html"
   ]
  }
 ],
 "metadata": {
  "kernelspec": {
   "display_name": "Python 3",
   "language": "python",
   "name": "python3"
  },
  "language_info": {
   "codemirror_mode": {
    "name": "ipython",
    "version": 3
   },
   "file_extension": ".py",
   "mimetype": "text/x-python",
   "name": "python",
   "nbconvert_exporter": "python",
   "pygments_lexer": "ipython3",
   "version": "3.5.2"
  }
 },
 "nbformat": 4,
 "nbformat_minor": 0
}
