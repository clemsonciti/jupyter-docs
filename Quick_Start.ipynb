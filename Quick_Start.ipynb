{
 "cells": [
  {
   "cell_type": "markdown",
   "metadata": {},
   "source": [
    "# Running your first Jupyter notebook on Palmetto"
   ]
  },
  {
   "cell_type": "markdown",
   "metadata": {},
   "source": [
    "In this section, you will:\n",
    "\n",
    "1. Download a notebook file (`.ipynb`) to your local machine (laptop or workstation)\n",
    "2. Upload this file to the Palmetto cluster\n",
    "3. Run it using Jupyter on Palmetto"
   ]
  },
  {
   "cell_type": "markdown",
   "metadata": {},
   "source": [
    "## Downloading the notebook to your local machine\n",
    "\n",
    "All Jupyter notebooks have the extension (`.ipynb`) - a result of the Jupyter project being a fork of the [IPython](https://ipython.org/) project. The notebook for this exercise can be downloaded [here](https://raw.githubusercontent.com/clemsonciti/jupyter-welcome/master/index.ipynb). If simply clicking on the link doesn't work, try right-clicking on it and selecting \"Save Link As...\""
   ]
  },
  {
   "cell_type": "markdown",
   "metadata": {},
   "source": [
    "## Uploading the notebook to the Palmetto cluster\n",
    "\n",
    "You can upload any file to the Palmetto cluster via the Jupyter dashboard. Click on the \"Upload\" button on the top right of the file explorer:"
   ]
  },
  {
   "cell_type": "markdown",
   "metadata": {},
   "source": [
    "<figure class=\"figure\">\n",
    "<img src=\"images/jupyterhub-file-browser.png\" width=500px style=\"border:1px solid;\">\n",
    "</figure>"
   ]
  },
  {
   "cell_type": "markdown",
   "metadata": {},
   "source": [
    "Be aware that there is a limit on the size of files you can upload in this way (~25 MB). Once you've uploaded the file, it should appear in the file browser:"
   ]
  },
  {
   "cell_type": "markdown",
   "metadata": {},
   "source": [
    "<figure class=\"figure\">\n",
    "<img src=\"images/jupyterhub-file-uploaded.png\" width=500px style=\"border:1px solid;\">\n",
    "</figure>"
   ]
  },
  {
   "cell_type": "markdown",
   "metadata": {},
   "source": [
    "## Running the notebook\n",
    "\n",
    "Simply click on the file `index.ipynb` to run it."
   ]
  }
 ],
 "metadata": {
  "kernelspec": {
   "display_name": "Python 3",
   "language": "python",
   "name": "python3"
  },
  "language_info": {
   "codemirror_mode": {
    "name": "ipython",
    "version": 3
   },
   "file_extension": ".py",
   "mimetype": "text/x-python",
   "name": "python",
   "nbconvert_exporter": "python",
   "pygments_lexer": "ipython3",
   "version": "3.5.2"
  }
 },
 "nbformat": 4,
 "nbformat_minor": 0
}
