{
 "cells": [
  {
   "cell_type": "markdown",
   "metadata": {},
   "source": [
    "# Getting help"
   ]
  },
  {
   "cell_type": "markdown",
   "metadata": {},
   "source": [
    "### Palmetto office hours\n",
    "\n",
    "For anyone on the Clemson University campus who needs assistance with Palmetto-related questions or problems, our research support staff is available **every Wednesday between 8:00am and 11:00am in room 2138, Barre Hall**. Feel free to stop by - no appointment needed.\n",
    "\n",
    "### Email ithelp\n",
    "\n",
    "E-mail <ithelp@clemson.edu> with the words \"Palmetto\" and \"Jupyterhub\" as part of the subject line. This e-mail will be seen by all Palmetto support team members, and the person who can best handle your request will respond. The response time can vary from about 15 minutes to more than a day, depending on the problem (and depending on how busy the support team is), and support requests are only received/processed during regular daytime business hours.\n",
    "\n",
    "Please include all information relevant to your issue, and if possible, the steps required to reproduce the problem."
   ]
  }
 ],
 "metadata": {
  "kernelspec": {
   "display_name": "Python 3",
   "language": "python",
   "name": "python3"
  },
  "language_info": {
   "codemirror_mode": {
    "name": "ipython",
    "version": 3
   },
   "file_extension": ".py",
   "mimetype": "text/x-python",
   "name": "python",
   "nbconvert_exporter": "python",
   "pygments_lexer": "ipython3",
   "version": "3.5.1"
  }
 },
 "nbformat": 4,
 "nbformat_minor": 0
}
