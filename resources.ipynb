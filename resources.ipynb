{
 "cells": [
  {
   "cell_type": "markdown",
   "metadata": {},
   "source": [
    "# Resources"
   ]
  },
  {
   "cell_type": "markdown",
   "metadata": {
    "collapsed": true
   },
   "source": [
    "This page contains external resources for using Jupyter."
   ]
  },
  {
   "cell_type": "markdown",
   "metadata": {},
   "source": [
    "### Notebook gallery\n",
    "\n",
    "A collection of Jupyter notebooks created for research and teaching across several fields in scientific computing, data analysis and related fields is available here:\n",
    "\n",
    "https://github.com/ipython/ipython/wiki/A-gallery-of-interesting-IPython-Notebooks"
   ]
  },
  {
   "cell_type": "markdown",
   "metadata": {
    "collapsed": true
   },
   "source": [
    "### Jupyter and IPython documentation\n",
    "\n",
    "The official Jupyter documentation:\n",
    "\n",
    "http://jupyter.readthedocs.io/en/latest/index.html\n",
    "\n",
    "The documentation for IPython, the kernel used to create Python-based notebooks:\n",
    "\n",
    "http://ipython.readthedocs.io/en/stable/index.html\n",
    "\n",
    "For a list of packages useful for scientific computing and data analysis (and links to the relevant documentation), see here:\n",
    "\n",
    "https://www.scipy.org/about.html"
   ]
  }
 ],
 "metadata": {
  "kernelspec": {
   "display_name": "Python 3",
   "language": "python",
   "name": "python3"
  },
  "language_info": {
   "codemirror_mode": {
    "name": "ipython",
    "version": 3
   },
   "file_extension": ".py",
   "mimetype": "text/x-python",
   "name": "python",
   "nbconvert_exporter": "python",
   "pygments_lexer": "ipython3",
   "version": "3.5.1"
  }
 },
 "nbformat": 4,
 "nbformat_minor": 0
}
