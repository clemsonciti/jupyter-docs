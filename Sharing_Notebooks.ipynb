{
 "cells": [
  {
   "cell_type": "markdown",
   "metadata": {},
   "source": [
    "# Sharing and Publishing Notebooks"
   ]
  },
  {
   "cell_type": "markdown",
   "metadata": {},
   "source": [
    "This section covers the different ways to share and publish Notebooks."
   ]
  },
  {
   "cell_type": "markdown",
   "metadata": {},
   "source": [
    "## Sharing `.ipynb` files\n",
    "\n",
    "Notebooks are [`JSON`](http://www.json.org/) files with the extension `.ipynb`. These `.ipynb` files can be opened on any machine with Jupyter installed. The environment used in the Notebook (e.g., specific libraries or packages used in the code) must match the environment of the running Notebook server."
   ]
  },
  {
   "cell_type": "markdown",
   "metadata": {
    "collapsed": true
   },
   "source": [
    "## Generating static documents from Notebooks\n",
    "\n",
    "Notebooks can be converted from `.ipynb` to other static formats, such as HTML, LaTeX, PDF, Markdown, reStructured Text, and others. This enables:\n",
    "\n",
    "* presentation of information in familiar formats, such as PDF.\n",
    "* publishing of research using LaTeX and opens the door for embedding notebooks in papers.\n",
    "* collaboration with others who may not use the notebook in their work.\n",
    "* sharing contents with many people via the web using HTML.\n",
    "\n",
    "The simplest way to do this is to click on `File > Download as` from the Notebook interface. For programmatic conversion of notebooks, and for more control over the layout and appearance, you may want to use the [nbconvert](http://nbconvert.readthedocs.io/en/latest/index.html) command-line utility."
   ]
  },
  {
   "cell_type": "markdown",
   "metadata": {},
   "source": [
    "## Sharing Notebooks online\n",
    "\n",
    "Notebooks can be published online in many ways:\n",
    "\n",
    "* In blogs/websites as HTML format\n",
    "* On GitHub, which renders Notebooks automatically ([example](https://github.com/clemsonciti/jupyter-welcome/blob/master/index.ipynb))\n",
    "* On [nbviewer](http://nbviewer.jupyter.org/), a website which renders Notebooks from URLs."
   ]
  },
  {
   "cell_type": "markdown",
   "metadata": {},
   "source": [
    "## Binder"
   ]
  },
  {
   "cell_type": "markdown",
   "metadata": {},
   "source": [
    "[Binder](http://docs.mybinder.org/) is a service that allows users to share runnable Notebooks. Binder allows you to specify the environment (libraries, packages, etc.,) required for a Notebook to run, and makes this environment available to others through the browser. These Notebooks can be run by others on a public cluster (provided by Binder itself), or a private one that you can configure for use with Binder."
   ]
  }
 ],
 "metadata": {
  "kernelspec": {
   "display_name": "Python 3",
   "language": "python",
   "name": "python3"
  },
  "language_info": {
   "codemirror_mode": {
    "name": "ipython",
    "version": 3
   },
   "file_extension": ".py",
   "mimetype": "text/x-python",
   "name": "python",
   "nbconvert_exporter": "python",
   "pygments_lexer": "ipython3",
   "version": "3.5.2"
  }
 },
 "nbformat": 4,
 "nbformat_minor": 0
}
