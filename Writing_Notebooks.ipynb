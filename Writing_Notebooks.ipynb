{
 "cells": [
  {
   "cell_type": "markdown",
   "metadata": {
    "slideshow": {
     "slide_type": "-"
    }
   },
   "source": [
    "# Writing Notebooks"
   ]
  },
  {
   "cell_type": "markdown",
   "metadata": {
    "slideshow": {
     "slide_type": "slide"
    }
   },
   "source": [
    "The Jupyter Notebook is an interactive environment for writing and running code. The notebook is capable of running code in a wide range of languages. However, each notebook is associated with a single kernel. This notebook is associated with the Python kernel, therefore runs Python code. You can change the kernel that a notebook is associated with by selecting `Kernel>Change kernel` from the menu bar.\n",
    "\n",
    "In addition to code, Notebooks support Markdown and LaTeX for including text and mathematical equations/expressions.\n",
    "\n",
    "Notebooks are written as collection of \"Cells\", which can be of two types:\n",
    "\n",
    "1.  Code cells\n",
    "2.  Markdown cells (including LaTeX)"
   ]
  },
  {
   "cell_type": "markdown",
   "metadata": {
    "slideshow": {
     "slide_type": "slide"
    }
   },
   "source": [
    "### Code cells"
   ]
  },
  {
   "cell_type": "markdown",
   "metadata": {
    "slideshow": {
     "slide_type": "slide"
    }
   },
   "source": [
    "Code cells contain a single line or several lines of code. Code cells can be differentiated from Markdown cells by the `In [ ]` indicator on their left:\n",
    "\n",
    "<img src=\"images/edit_mode.png\" style=\"height:50px; width:900px\">"
   ]
  },
  {
   "cell_type": "markdown",
   "metadata": {
    "slideshow": {
     "slide_type": "slide"
    }
   },
   "source": [
    "Code cells can be \"executed\" by typing `Shift+Enter`. When a code cell is executed by the kernel, any output or errors resulting from running these lines of code is presented below the cell. The first code cell below produces output, while the second produces an error:"
   ]
  },
  {
   "cell_type": "code",
   "execution_count": 1,
   "metadata": {
    "collapsed": false,
    "slideshow": {
     "slide_type": "slide"
    }
   },
   "outputs": [
    {
     "name": "stdout",
     "output_type": "stream",
     "text": [
      "11\n"
     ]
    }
   ],
   "source": [
    "a = 11\n",
    "print(a)"
   ]
  },
  {
   "cell_type": "code",
   "execution_count": 6,
   "metadata": {
    "collapsed": false,
    "slideshow": {
     "slide_type": "slide"
    }
   },
   "outputs": [
    {
     "ename": "NameError",
     "evalue": "name 'b' is not defined",
     "output_type": "error",
     "traceback": [
      "\u001b[0;31m---------------------------------------------------------------------------\u001b[0m",
      "\u001b[0;31mNameError\u001b[0m                                 Traceback (most recent call last)",
      "\u001b[0;32m<ipython-input-6-4851c8fca996>\u001b[0m in \u001b[0;36m<module>\u001b[0;34m()\u001b[0m\n\u001b[0;32m----> 1\u001b[0;31m \u001b[0mprint\u001b[0m\u001b[0;34m(\u001b[0m\u001b[0mb\u001b[0m\u001b[0;34m)\u001b[0m\u001b[0;34m\u001b[0m\u001b[0m\n\u001b[0m",
      "\u001b[0;31mNameError\u001b[0m: name 'b' is not defined"
     ]
    }
   ],
   "source": [
    "print(b)"
   ]
  },
  {
   "cell_type": "markdown",
   "metadata": {
    "slideshow": {
     "slide_type": "slide"
    }
   },
   "source": [
    "There are two other keyboard shortcuts for running code:\n",
    "\n",
    "* `Alt-Enter` runs the current cell and inserts a new one below.\n",
    "* `Ctrl-Enter` run the current cell and enters command mode in the same cell."
   ]
  },
  {
   "cell_type": "markdown",
   "metadata": {
    "slideshow": {
     "slide_type": "slide"
    }
   },
   "source": [
    "### Markdown cells"
   ]
  },
  {
   "cell_type": "markdown",
   "metadata": {
    "slideshow": {
     "slide_type": "slide"
    }
   },
   "source": [
    "Markdown cells contain a single line or several lines of *Markdown*. A cell can be changed from a code cell to a Markdown cell by:\n",
    "\n",
    "1.  Selecting or navigating to the cell,\n",
    "2.  Changing to command mode (press Esc)\n",
    "3.  Pressing the `m` key\n",
    "\n",
    "Conversely, to change a cell type from Makrdown to code, press the `y` key instead.\n",
    "\n",
    "Markdown cells can be differentiated from code cells by the absence of the `In [ ]` indicator on the left:\n",
    "\n",
    "<img src=\"images/markdown-cell.png\" style=\"height:50px; width:900px\">\n",
    "\n",
    "When a markdown cell is executed by typing `Shift+Enter`, the resulting **rendered** text is produced. For example, in the above Markdown cell, the text between the asterisks (`*`) is rendered in italics. The output of the above cell is:"
   ]
  },
  {
   "cell_type": "markdown",
   "metadata": {
    "slideshow": {
     "slide_type": "slide"
    }
   },
   "source": [
    "This is a *mardown cell*"
   ]
  },
  {
   "cell_type": "markdown",
   "metadata": {
    "slideshow": {
     "slide_type": "slide"
    }
   },
   "source": [
    "Markdown is a simple, and extremely powerful markup language. Markdown makes it easy to quickly produe high-quality documents containing elements like stylized text, headings, tables, figures, etc., Markdown also happens to be a superset of HTML, which means that HTML is valid inside Markdown cells. The full specification of Markdown is given here:\n",
    "\n",
    "<http://daringfireball.net/projects/markdown/>"
   ]
  },
  {
   "cell_type": "markdown",
   "metadata": {
    "slideshow": {
     "slide_type": "slide"
    }
   },
   "source": [
    "Code is run in a separate process called the Kernel.  The Kernel can be interrupted or restarted.  Try running the following cell and then hit the \"interrupt kernel\" button in the toolbar above."
   ]
  },
  {
   "cell_type": "markdown",
   "metadata": {
    "slideshow": {
     "slide_type": "slide"
    }
   },
   "source": [
    "### Managing the kernel"
   ]
  },
  {
   "cell_type": "code",
   "execution_count": 4,
   "metadata": {
    "collapsed": false,
    "slideshow": {
     "slide_type": "slide"
    }
   },
   "outputs": [],
   "source": [
    "import time\n",
    "time.sleep(10)"
   ]
  },
  {
   "cell_type": "markdown",
   "metadata": {
    "slideshow": {
     "slide_type": "slide"
    }
   },
   "source": [
    "If the Kernel dies you will be prompted to restart it. Below is some Python code that crashes the kernel. If this cell is executed, the kernel has to be restarted for the notebook to be usable again."
   ]
  },
  {
   "cell_type": "code",
   "execution_count": 7,
   "metadata": {
    "collapsed": false,
    "slideshow": {
     "slide_type": "slide"
    }
   },
   "outputs": [],
   "source": [
    "import sys\n",
    "from ctypes import CDLL\n",
    "\n",
    "# This will crash a Linux or Mac system\n",
    "# by producing a segmentation faul or \"segfault\"\n",
    "# equivalent calls can be made on Windows\n",
    "\n",
    "# Uncomment these lines if you would like to see the segfault.\n",
    "# After the segfault occurs, you will have to restart the Kernel.\n",
    "\n",
    "# dll = 'dylib' if sys.platform == 'darwin' else 'so.6'\n",
    "# libc = CDLL(\"libc.%s\" % dll) \n",
    "# libc.time(-1)  # BOOM!!"
   ]
  },
  {
   "cell_type": "markdown",
   "metadata": {
    "slideshow": {
     "slide_type": "slide"
    }
   },
   "source": [
    "The kernel maintains the state of a notebook's computations. This means that any variables or functions you define in a cell are available to other cells. Restarting the kernel also resets this \"state\" of the notebook."
   ]
  }
 ],
 "metadata": {
  "kernelspec": {
   "display_name": "Python 3",
   "language": "python",
   "name": "python3"
  },
  "language_info": {
   "codemirror_mode": {
    "name": "ipython",
    "version": 3
   },
   "file_extension": ".py",
   "mimetype": "text/x-python",
   "name": "python",
   "nbconvert_exporter": "python",
   "pygments_lexer": "ipython3",
   "version": "3.5.1"
  }
 },
 "nbformat": 4,
 "nbformat_minor": 0
}
