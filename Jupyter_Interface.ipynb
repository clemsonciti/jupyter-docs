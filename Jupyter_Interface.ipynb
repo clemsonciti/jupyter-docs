{
 "cells": [
  {
   "cell_type": "markdown",
   "metadata": {
    "slideshow": {
     "slide_type": "slide"
    }
   },
   "source": [
    "# The Jupyter Interface"
   ]
  },
  {
   "cell_type": "markdown",
   "metadata": {
    "slideshow": {
     "slide_type": "slide"
    }
   },
   "source": [
    "\n",
    "\n",
    "### Your session\n",
    "\n",
    "<img src=\"images/jupyterhub-control-panel.png\" width=500px style=\"float:right; border:1px solid; margin-left:50px\">\n",
    "\n",
    "Your session is active for as long as you requested \"wall time\" when spawning the notebook server. If you exceed the allocated wall time, your notebook server will become unresponsive, and any unsaved work may be lost. You can stop your notebook server by clicking on the **Control Panel** button on the top right, and selecting **Stop My Server**. You can also log out of your server by clicking on **Logout**. This does not stop the notebook server, which will remain active for the entire allocated wall time. Logging back in will take you to the running notebook server."
   ]
  },
  {
   "cell_type": "markdown",
   "metadata": {
    "slideshow": {
     "slide_type": "slide"
    }
   },
   "source": [
    "### The dashboard\n",
    "\n",
    "<figure class=\"figure\">\n",
    "<img src=\"images/jupyterhub-file-browser.png\" width=500px style=\"float:right; border:1px solid; margin-left:50px\">\n",
    "</figure>\n",
    "\n",
    "The dashboard is the primary interface of the notebook server. You can navigate to the dashboard from any page by clicking on the \"Jupyter\" logo on the top left of the page. By default, the dashboard has three *tabs* named **Files**, **Running** and **IPython Clusters**. "
   ]
  },
  {
   "cell_type": "markdown",
   "metadata": {
    "slideshow": {
     "slide_type": "slide"
    }
   },
   "source": [
    "### Files and folders\n",
    "\n",
    "<img src=\"images/dashboard_files_tab_run.png\" width=500px style=\"float:right; border:1px solid; margin-left:50px\">\n",
    "\n",
    "The **Files** tab of the dashboard displays the file explorer, which lets you interact with files and folders stored on the Palmetto cluster. Clicking on an item (file or folder) opens it. Checking the box next to an item lets you perform actions on it, such as deleting or renaming.\n",
    "\n",
    "You can create new files or folders by clicking on the \"New\" button on the top right of the file explorer."
   ]
  },
  {
   "cell_type": "markdown",
   "metadata": {
    "slideshow": {
     "slide_type": "slide"
    }
   },
   "source": [
    "### Terminals\n",
    "\n",
    "<img src=\"images/jupyterhub-terminal.png\" width=500px style=\"float:right; border:1px solid; margin-left:50px\">\n",
    "\n",
    "To start a terminal session, click on **New**, and then **Terminal** on the top right of the file explorer. This opens a terminal running on a compute node of the cluster. You can have several terminals open at the same time. You can always `ssh` into the user/login node of the cluster:\n",
    "\n",
    "    $ ssh user001"
   ]
  },
  {
   "cell_type": "markdown",
   "metadata": {
    "slideshow": {
     "slide_type": "slide"
    }
   },
   "source": [
    "### Notebooks\n",
    "\n",
    "<img src=\"images/jupyter-notebook-mode.png\" width=500px style=\"float:right; border:1px solid; margin-left:50px\">\n",
    "\n",
    "Finally, you can create Jupyter notebooks by clicking **New**, and selecting a notebook *kernel* to use. Kernels are processes that run interactive code in a particular programming language and return output to the user. The default kernels available are:\n",
    "\n",
    "1. Python 3\n",
    "2. R\n",
    "3. MATLAB\n",
    "\n",
    "When you select a kernel, the notebook interface is opened in a new tab. See the [Quickstart](Quick_Start.html) section for a quick introduction to editing and running Notbeooks, and the section on [Notebook Basics](Notebook_Basics.html) for details. Note that the MATLAB kernel needs a small amount of additional configuration; please see the [Configuration](Configuring.html) page for details."
   ]
  },
  {
   "cell_type": "markdown",
   "metadata": {
    "slideshow": {
     "slide_type": "slide"
    }
   },
   "source": [
    "### Running notebooks and terminals\n",
    "\n",
    "<img src=\"images/dashboard_running_tab.png\" width=500px style=\"float:right; border:1px solid; margin-left:50px\">\n",
    "\n",
    "\n",
    "The **Running** tab of the dashboard shows all running notebooks and terminals. Simply closing the browser window with a running notebook or terminal does not shut down that notebook or terminal. They need to be explicitly shut down from this tab."
   ]
  }
 ],
 "metadata": {
  "kernelspec": {
   "display_name": "Python 3",
   "language": "python",
   "name": "python3"
  },
  "language_info": {
   "codemirror_mode": {
    "name": "ipython",
    "version": 3
   },
   "file_extension": ".py",
   "mimetype": "text/x-python",
   "name": "python",
   "nbconvert_exporter": "python",
   "pygments_lexer": "ipython3",
   "version": "3.5.2"
  }
 },
 "nbformat": 4,
 "nbformat_minor": 0
}
