{
 "cells": [
  {
   "cell_type": "markdown",
   "metadata": {},
   "source": [
    "# Running a Notebook Server on Palmetto Cluster\n",
    "\n",
    "Running a notebook server on the Palmetto cluster requires no configuation,\n",
    "and no additional software other than a web browser running on your local machine\n",
    "(workstation or laptop).\n",
    "Of course, you will need an account on the Palmetto cluster."
   ]
  },
  {
   "cell_type": "markdown",
   "metadata": {},
   "source": [
    "1.  Start by visiting the following URL:\n",
    "        \n",
    "        https://webapp01-ext.palmetto.clemson.edu:8443\n",
    "    \n",
    "2.  Log in with your Palmetto user ID and password:\n",
    "\n",
    "    <img src=\"images/palmetto_login.png\">\n",
    "\n",
    "3.  Once you are logged in, click on \"Start my server\" to start a notebook server.\n",
    "\n",
    "    <img src=\"images/palmetto_start_my_server.png\">\n",
    "\n",
    "4.  You will be taken to the notebook spawner page. Here, you can select the compute resources you will\n",
    "    need access to while working with the notebook server.\n",
    "\n",
    "    <img src=\"images/palmetto_spawner_options.png\">\n",
    "\n",
    "5.  Select the options you want, and click on \"Spawn\" to start the Notebook server.\n",
    "    This will open up the Notebook dashboard.\n",
    "\n",
    "    <img src=\"images/palmetto_dashboard.png\">"
   ]
  },
  {
   "cell_type": "code",
   "execution_count": null,
   "metadata": {
    "collapsed": true
   },
   "outputs": [],
   "source": []
  }
 ],
 "metadata": {
  "kernelspec": {
   "display_name": "Python 3",
   "language": "python",
   "name": "python3"
  },
  "language_info": {
   "codemirror_mode": {
    "name": "ipython",
    "version": 3
   },
   "file_extension": ".py",
   "mimetype": "text/x-python",
   "name": "python",
   "nbconvert_exporter": "python",
   "pygments_lexer": "ipython3",
   "version": "3.5.1"
  }
 },
 "nbformat": 4,
 "nbformat_minor": 0
}
