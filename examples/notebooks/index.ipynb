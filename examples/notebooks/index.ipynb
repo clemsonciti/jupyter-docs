{
 "cells": [
  {
   "cell_type": "markdown",
   "metadata": {},
   "source": [
    "# Jupyter for Palmetto Cluster\n",
    "\n",
    "Welcome to the documentation for Jupyter for the Palmetto Cluster.\n",
    "This website provides an overview of the Jupyter interface to the cluster,\n",
    "and some examples of Jupyter notebooks.\n",
    "The examples in this repository are based on\n",
    "the official Jupyter notebook documentation\n",
    "available [here](https://github.com/jupyter/notebook).\n",
    "This website is itself published using Jupyter.\n",
    "\n",
    "1. [Introduction to Jupyter for the Palmetto Cluster][intro]\n",
    "1. [Starting a Notebook Server on the Palmetto Cluster][starting-server]\n",
    "1. [Notebook Basics][basics]\n",
    "1. [Running Code][code]\n",
    "1. [Working With Markdown Cells][markdown]\n",
    "1. [Typesetting Equations][equations]\n",
    "1. [Custom Keyboard Shortcuts][keyboard-shortcuts]\n",
    "\n",
    "[intro]: Jupyter_for_Palmetto_Overview.html\n",
    "[starting-server]: Notebook_Server_on_Palmetto.html\n",
    "[basics]: Notebook_Basics.html\n",
    "[code]: Running_Code.html\n",
    "[markdown]: Working_With_Markdown_Cells.html\n",
    "[equations]: Typesetting_Equations.html\n",
    "[keyboard-shortcuts]: Custom_Keyboard_Shortcuts.html\n"
   ]
  }
 ],
 "metadata": {
  "kernelspec": {
   "display_name": "Python 3",
   "language": "python",
   "name": "python3"
  },
  "language_info": {
   "codemirror_mode": {
    "name": "ipython",
    "version": 3
   },
   "file_extension": ".py",
   "mimetype": "text/x-python",
   "name": "python",
   "nbconvert_exporter": "python",
   "pygments_lexer": "ipython3",
   "version": "3.5.1"
  }
 },
 "nbformat": 4,
 "nbformat_minor": 0
}
