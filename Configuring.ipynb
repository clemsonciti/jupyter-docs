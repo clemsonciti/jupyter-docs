{
 "cells": [
  {
   "cell_type": "markdown",
   "metadata": {},
   "source": [
    "# Configuring and customizing Jupyter"
   ]
  },
  {
   "cell_type": "markdown",
   "metadata": {},
   "source": [
    "While the default Jupyter environment is sufficient for performing most basic tasks and writing fairly advanced notebooks, it is possible to configure Jupyter further."
   ]
  },
  {
   "cell_type": "markdown",
   "metadata": {},
   "source": [
    "### Your .jhubrc file\n",
    "\n",
    "Before a notebook server is launched,\n",
    "some modules get loaded by default.\n",
    "In addition to these default modules,\n",
    "you can load your own modules,\n",
    "define environment variables, etc.,\n",
    "in a file called `.jhubrc` in your home directory.\n",
    "All commands in the `.jhubrc` are executed before your notebook server is launched.\n",
    "\n",
    "For example,\n",
    "to create a notebook using the MATLAB kernel,\n",
    "you will need the following lines in your `.jhubrc`:"
   ]
  },
  {
   "cell_type": "markdown",
   "metadata": {},
   "source": [
    "```bash\n",
    "module load matlab/2015a zeromq/4.1.5\n",
    "export MATLAB_EXECUTABLE=$MATLAB/bin/matlab\n",
    "```"
   ]
  },
  {
   "cell_type": "markdown",
   "metadata": {},
   "source": [
    "Similarly, to use MPI in Notebooks, you will need to load an `openmpi` module in your `.jhubrc`:"
   ]
  },
  {
   "cell_type": "markdown",
   "metadata": {},
   "source": [
    "```bash\n",
    "module load gcc/4.8.1 openmpi/1.8.4\n",
    "```"
   ]
  },
  {
   "cell_type": "markdown",
   "metadata": {},
   "source": [
    "### Installing Python/R packages"
   ]
  },
  {
   "cell_type": "code",
   "execution_count": null,
   "metadata": {
    "collapsed": true
   },
   "outputs": [],
   "source": []
  },
  {
   "cell_type": "markdown",
   "metadata": {},
   "source": [
    "### Adding new kernels using Conda"
   ]
  }
 ],
 "metadata": {
  "kernelspec": {
   "display_name": "Python 3",
   "language": "python",
   "name": "python3"
  },
  "language_info": {
   "codemirror_mode": {
    "name": "ipython",
    "version": 3
   },
   "file_extension": ".py",
   "mimetype": "text/x-python",
   "name": "python",
   "nbconvert_exporter": "python",
   "pygments_lexer": "ipython3",
   "version": "3.5.1"
  }
 },
 "nbformat": 4,
 "nbformat_minor": 0
}
