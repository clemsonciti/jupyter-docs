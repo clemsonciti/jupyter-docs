{
 "cells": [
  {
   "cell_type": "markdown",
   "metadata": {},
   "source": [
    "# Configuring and customizing Jupyter"
   ]
  },
  {
   "cell_type": "markdown",
   "metadata": {},
   "source": [
    "### Your `.jhubrc` file\n",
    "\n",
    "Before a notebook server is launched,\n",
    "some modules get loaded by default.\n",
    "In addition to these default modules,\n",
    "you can load your own modules,\n",
    "and export custom environment variables\n",
    "in a file called `.jhubrc` in your home directory.\n",
    "All commands in the `.jhubrc` are executed before your notebook server is launched.\n",
    "\n",
    "For example,\n",
    "to create a notebook using the MATLAB kernel,\n",
    "you will need the following lines in your `.jhubrc`:"
   ]
  },
  {
   "cell_type": "markdown",
   "metadata": {},
   "source": [
    "```bash\n",
    "module load matlab/2015a zeromq/4.1.5\n",
    "export MATLAB_EXECUTABLE=$MATLAB/bin/matlab\n",
    "```"
   ]
  },
  {
   "cell_type": "markdown",
   "metadata": {},
   "source": [
    "Note that the only commands that will have any effect are `module` and `export` commands. The `.jhubrc` affects only the kernel environments (i.e., the environments of your notebooks), and not the terminal environment.\n",
    "The terminal environment can be customized using `.bashrc` or `.bash_profile`."
   ]
  },
  {
   "cell_type": "markdown",
   "metadata": {},
   "source": [
    "### Installing additional Python/R packages"
   ]
  },
  {
   "cell_type": "markdown",
   "metadata": {},
   "source": [
    "The default Jupyter environment supports Python and R kernels which are pre-loaded with several common packages for scientific computing and data analysis. It's also easy to install your own packages/libraries for use with these kernels."
   ]
  },
  {
   "cell_type": "markdown",
   "metadata": {},
   "source": [
    "We recommend using either pip or [Conda](http://conda.pydata.org/docs/using/index.html) to install\n",
    "Python packages whenever possible.\n",
    "You can install most Python package using the terminal with the following commands:\n",
    "\n",
    "~~~\n",
    "$ module add anaconda3/2.5.0\n",
    "$ pip install <package_name> --user\n",
    "~~~\n",
    "\n",
    "This will make the package available to the Python 3 kernels.\n",
    "\n",
    "For R packages, you can define the `R_LIBS` environment variable in your `.jhubrc` to specify where libraries get installed and loaded by notebooks."
   ]
  },
  {
   "cell_type": "markdown",
   "metadata": {},
   "source": [
    "### Adding new kernels"
   ]
  },
  {
   "cell_type": "markdown",
   "metadata": {},
   "source": [
    "In addition to the default kernels provided (Python, R, and MATLAB), it is possible to create your own kernels. To install kernels for other languages, see the setup instructions for the language [here](https://github.com/ipython/ipython/wiki/IPython-kernels-for-other-languages).\n",
    "\n",
    "For custom Python kernels, we recommend using [Conda](http://conda.pydata.org/docs/using/index.html) environments, and [ipykernel](http://ipython.readthedocs.io/en/stable/install/kernel_install.html) to generate a kernel from a Conda environment:\n",
    "\n",
    "~~~\n",
    "$ conda create --name myenv python=2.7\n",
    "$ source activate myenv\n",
    "$ conda install jupyter\n",
    "$ python -m ipykernel install --user --name python_custom --display-name \"My Python\"\n",
    "~~~\n",
    "\n",
    "See the Conda documentation for more details about Conda environments."
   ]
  }
 ],
 "metadata": {
  "kernelspec": {
   "display_name": "Python 3",
   "language": "python",
   "name": "python3"
  },
  "language_info": {
   "codemirror_mode": {
    "name": "ipython",
    "version": 3
   },
   "file_extension": ".py",
   "mimetype": "text/x-python",
   "name": "python",
   "nbconvert_exporter": "python",
   "pygments_lexer": "ipython3",
   "version": "3.5.2"
  }
 },
 "nbformat": 4,
 "nbformat_minor": 0
}
