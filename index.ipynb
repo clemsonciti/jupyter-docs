{
 "cells": [
  {
   "cell_type": "markdown",
   "metadata": {},
   "source": [
    "# Jupyterhub for Palmetto Cluster"
   ]
  },
  {
   "cell_type": "markdown",
   "metadata": {},
   "source": [
    "Jupyterhub for Palmetto cluster is a service that enables users to run [Jupyter](http://jupyter.org/) on the Palmetto cluster. Jupyter allows users to interact with the cluster entirely from within a web browser, and includes tools such as a file browser, a text editor, and a terminal. Jupyter also lets users create **Jupyter Notebooks**. Notebooks are rich, interactive documents that can contain live (runnable) code, equations, visualizations and explanatory text. Uses include data cleaning and transformation, numerical simulation, statistical modeling, machine learning and much more."
   ]
  },
  {
   "cell_type": "markdown",
   "metadata": {},
   "source": [
    "<div style=\"max-width:600px;float:left\">\n",
    "<img src=\"images/jupyterhub-file-browser.png\" width=450px style=\"float:right; border:1px solid;\">\n",
    "</div>\n",
    "<div style=\"max-width:600px;float:right\">\n",
    "<img src=\"images/jupyterhub-text-editor.png\" width=450px style=\"float:left; border:1px solid;\">\n",
    "</div>"
   ]
  },
  {
   "cell_type": "markdown",
   "metadata": {},
   "source": [
    "\n",
    "<div style=\"max-width:600px;float:left\">\n",
    "<img src=\"images/jupyterhub-terminal.png\" width=450px; style=\"border:1px solid;\">\n",
    "</div>\n",
    "<div style=\"max-width:600px;float:right\">\n",
    "<img src=\"images/jupyterhub-notebook-example.png\" width=450px; style=\"border:1px solid;\">\n",
    "</div>\n"
   ]
  },
  {
   "cell_type": "markdown",
   "metadata": {},
   "source": [
    "To get started, log in to [https://www.palmetto.clemson.edu/jupyterhub](https://www.palmetto.clemson.edu/jupyterhub). See our [documentation](documentation.html) page for learning how to use Jupyter for Palmetto cluster. For external resources on Jupyter, and examples of tasks that can be accomplished with Jupyter, see our [resources](resources.html) page. Also see our [troubleshooting](troubleshooting.html) and [help](help.html) pages for troubleshooting problems and getting help."
   ]
  }
 ],
 "metadata": {
  "kernelspec": {
   "display_name": "Python 3",
   "language": "python",
   "name": "python3"
  },
  "language_info": {
   "codemirror_mode": {
    "name": "ipython",
    "version": 3
   },
   "file_extension": ".py",
   "mimetype": "text/x-python",
   "name": "python",
   "nbconvert_exporter": "python",
   "pygments_lexer": "ipython3",
   "version": "3.5.2"
  }
 },
 "nbformat": 4,
 "nbformat_minor": 0
}
