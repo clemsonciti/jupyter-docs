{
 "cells": [
  {
   "cell_type": "markdown",
   "metadata": {},
   "source": [
    "# Jupyterhub for Palmetto Cluster"
   ]
  },
  {
   "cell_type": "markdown",
   "metadata": {},
   "source": [
    "Jupyterhub for Palmetto cluster is a service that enables users to run [Jupyter](http://jupyter.org/) on the Palmetto cluster. Jupyter allows users to interact with the cluster entirely from within a web browser, and includes tools such as:"
   ]
  },
  {
   "cell_type": "markdown",
   "metadata": {},
   "source": [
    "\n",
    "<img src=\"images/jupyterhub-file-browser.png\" width=500px style=\"float:right;\">\n",
    "\n",
    "* A **file browser** for creating, deleting and navigating files and folders.\n"
   ]
  },
  {
   "cell_type": "markdown",
   "metadata": {},
   "source": [
    "<img src=\"images/jupyterhub-text-editor.png\" width=500px style=\"float:right;\">\n",
    "\n",
    "* A **text editor** for managing code and text files. Currently, Jupyter supports keybindings for Sublime Text, Vim, and Emacs, and supports syntax highlighting for all major programming languages and file types.\n"
   ]
  },
  {
   "cell_type": "markdown",
   "metadata": {},
   "source": [
    "<img src=\"images/jupyterhub-terminal.png\" width=500px style=\"float:right;\">\n",
    "* A **terminal** for command-line access to the cluster."
   ]
  },
  {
   "cell_type": "markdown",
   "metadata": {},
   "source": [
    "<img src=\"images/jupyterhub-notebook-example.png\" width=550px style=\"float:right;\">\n",
    "\n",
    "Jupyter also lets users create **Jupyter Notebooks**. Notebooks are rich, interactive documents that can contain live (runnable) code, equations, visualizations and explanatory text. Uses include data cleaning and transformation, numerical simulation, statistical modeling, machine learning and much more."
   ]
  },
  {
   "cell_type": "markdown",
   "metadata": {},
   "source": [
    "## Getting started\n",
    "\n",
    "1. [Starting a Notebook Server on the Palmetto Cluster][starting-server]\n",
    "1. [Notebook Basics][basics]\n",
    "1. [Running Code][code]\n",
    "1. [Working With Markdown Cells][markdown]\n",
    "1. [Typesetting Equations][equations]\n",
    "1. [Custom Keyboard Shortcuts][keyboard-shortcuts]\n",
    "\n",
    "[intro]: Jupyter_for_Palmetto_Overview.html\n",
    "[starting-server]: Notebook_Server_on_Palmetto.html\n",
    "[basics]: Notebook_Basics.html\n",
    "[code]: Running_Code.html\n",
    "[markdown]: Working_With_Markdown_Cells.html\n",
    "[equations]: Typesetting_Equations.html\n",
    "[keyboard-shortcuts]: Custom_Keyboard_Shortcuts.html\n"
   ]
  }
 ],
 "metadata": {
  "kernelspec": {
   "display_name": "Python 3",
   "language": "python",
   "name": "python3"
  },
  "language_info": {
   "codemirror_mode": {
    "name": "ipython",
    "version": 3
   },
   "file_extension": ".py",
   "mimetype": "text/x-python",
   "name": "python",
   "nbconvert_exporter": "python",
   "pygments_lexer": "ipython3",
   "version": "3.5.1"
  }
 },
 "nbformat": 4,
 "nbformat_minor": 0
}
