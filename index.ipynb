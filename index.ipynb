{
 "cells": [
  {
   "cell_type": "markdown",
   "metadata": {},
   "source": [
    "# Jupyterhub for Palmetto Cluster"
   ]
  },
  {
   "cell_type": "markdown",
   "metadata": {},
   "source": [
    "Jupyterhub for Palmetto cluster is a service that enables users to run [Jupyter](http://jupyter.org/) on the Palmetto cluster. Jupyter allows users to interact with the cluster entirely from within a web browser, and includes tools such as:"
   ]
  },
  {
   "cell_type": "markdown",
   "metadata": {},
   "source": [
    "\n",
    "<img src=\"images/jupyterhub-file-browser.png\" width=500px style=\"float:right; border:1px solid\">\n",
    "\n",
    "* A **file browser** for creating, deleting and navigating files and folders.\n"
   ]
  },
  {
   "cell_type": "markdown",
   "metadata": {},
   "source": [
    "<img src=\"images/jupyterhub-text-editor.png\" width=500px style=\"float:right; border:1px solid\">\n",
    "\n",
    "* A **text editor** for code and text files. Currently,\n",
    "Jupyter supports keybindings for Sublime Text, Vim, and Emacs.\n"
   ]
  },
  {
   "cell_type": "markdown",
   "metadata": {},
   "source": [
    "<img src=\"images/jupyterhub-terminal.png\" width=500px style=\"float:right; border:1px solid\">\n",
    "* A **terminal** for command-line access to the cluster."
   ]
  },
  {
   "cell_type": "markdown",
   "metadata": {},
   "source": [
    "<img src=\"images/jupyterhub-notebook-example.png\" width=500px style=\"float:right; border:1px solid; margin-left:50px\">\n",
    "\n",
    "Jupyter also lets users create **Jupyter Notebooks**. Notebooks are rich, interactive documents that can contain live (runnable) code, equations, visualizations and explanatory text. Uses include data cleaning and transformation, numerical simulation, statistical modeling, machine learning and much more."
   ]
  },
  {
   "cell_type": "markdown",
   "metadata": {},
   "source": [
    "To get started, log in to [https://palmetto.clemson.edu/jupyterhub](https://palmetto.clemson.edu/jupyterhub). See our [documentation](documentation.html) page for help. For external resources on Jupyter, and examples of tasks that can be accomplished with Jupyter, see our [resources](resources.html) page. Also see our [troubleshooting](troubleshooting.html) and [help](help.html) pages for troubleshooting problems and getting help."
   ]
  }
 ],
 "metadata": {
  "kernelspec": {
   "display_name": "Python 3",
   "language": "python",
   "name": "python3"
  },
  "language_info": {
   "codemirror_mode": {
    "name": "ipython",
    "version": 3
   },
   "file_extension": ".py",
   "mimetype": "text/x-python",
   "name": "python",
   "nbconvert_exporter": "python",
   "pygments_lexer": "ipython3",
   "version": "3.5.1"
  }
 },
 "nbformat": 4,
 "nbformat_minor": 0
}
